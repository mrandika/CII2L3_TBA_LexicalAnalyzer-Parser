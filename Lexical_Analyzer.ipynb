{
  "nbformat": 4,
  "nbformat_minor": 0,
  "metadata": {
    "colab": {
      "name": "Tubes TBA - Lexical Analyzer.ipynb",
      "provenance": []
    },
    "kernelspec": {
      "name": "python3",
      "display_name": "Python 3"
    },
    "language_info": {
      "name": "python"
    }
  },
  "cells": [
    {
      "cell_type": "code",
      "execution_count": null,
      "metadata": {
        "id": "iETqBb_1BnQa"
      },
      "outputs": [],
      "source": [
        "import string"
      ]
    },
    {
      "cell_type": "markdown",
      "source": [
        "**Generate States**"
      ],
      "metadata": {
        "id": "FzX-TWr9D01N"
      }
    },
    {
      "cell_type": "code",
      "source": [
        "alphabets = list(string.ascii_lowercase)\n",
        "states = ['q'+str(i) for i in range(0,31)]"
      ],
      "metadata": {
        "id": "8p6FjWn9B7AD"
      },
      "execution_count": null,
      "outputs": []
    },
    {
      "cell_type": "markdown",
      "source": [
        "**Initilize Transition Table**"
      ],
      "metadata": {
        "id": "1wia8xYcD22Y"
      }
    },
    {
      "cell_type": "code",
      "source": [
        "transition_table = {}"
      ],
      "metadata": {
        "id": "o0xUoDfOCGgE"
      },
      "execution_count": null,
      "outputs": []
    },
    {
      "cell_type": "markdown",
      "source": [
        "**Initialize State**"
      ],
      "metadata": {
        "id": "f0OgMTP9Dh6w"
      }
    },
    {
      "cell_type": "code",
      "source": [
        "for state in states:\n",
        "  for alphabet in alphabets:\n",
        "    transition_table[(state, alphabet)] = 'error'\n",
        "  \n",
        "  transition_table[(state, '#')] = 'error'\n",
        "  transition_table[(state, ' ')] = 'error'"
      ],
      "metadata": {
        "id": "gE61RwcYCQR4"
      },
      "execution_count": null,
      "outputs": []
    },
    {
      "cell_type": "markdown",
      "source": [
        "**Set ('q0', ' ') State**"
      ],
      "metadata": {
        "id": "m3k0hWsIDoqT"
      }
    },
    {
      "cell_type": "code",
      "source": [
        "transition_table[('q0', ' ')] = 'q0'"
      ],
      "metadata": {
        "id": "3UBv1tNhDGrd"
      },
      "execution_count": null,
      "outputs": []
    },
    {
      "cell_type": "markdown",
      "source": [
        "**Set Accepted State**"
      ],
      "metadata": {
        "id": "SCy8-7YEQ1f2"
      }
    },
    {
      "cell_type": "code",
      "source": [
        "accepted_states = ['q5', 'q11', 'q14', 'q15', 'q19', 'q25', 'q27', 'q30']\n",
        "\n",
        "for state in accepted_states:\n",
        "  transition_table[(state, ' ')] = 'q30'\n",
        "  transition_table[(state, '#')] = 'accept'\n",
        "\n",
        "transition_table[('q30', 'm')] = 'q1'\n",
        "transition_table[('q30', 'k')] = 'q11'\n",
        "transition_table[('q30', 'i')] = 'q6'\n",
        "transition_table[('q30', 's')] = 'q10'\n",
        "transition_table[('q30', 'd')] = 'q20'\n",
        "transition_table[('q30', 't')] = 'q22'"
      ],
      "metadata": {
        "id": "p2MRwISzQ49P"
      },
      "execution_count": null,
      "outputs": []
    },
    {
      "cell_type": "markdown",
      "source": [
        "**Update Transition Table for \"mbak\" token**"
      ],
      "metadata": {
        "id": "vY9C26f9IP7y"
      }
    },
    {
      "cell_type": "code",
      "source": [
        "transition_table[('q0', 'm')] = 'q1'\n",
        "transition_table[('q1', 'b')] = 'q2'\n",
        "transition_table[('q2', 'a')] = 'q3'\n",
        "transition_table[('q3', 'k')] = 'q11'"
      ],
      "metadata": {
        "id": "wxR9mHzFINjy"
      },
      "execution_count": null,
      "outputs": []
    },
    {
      "cell_type": "markdown",
      "source": [
        "**Update Transition Table for \"kakang\" token**"
      ],
      "metadata": {
        "id": "LCABYwHxPOHM"
      }
    },
    {
      "cell_type": "code",
      "source": [
        "transition_table[('q0', 'k')] = 'q11'\n",
        "transition_table[('q11', 'a')] = 'q3'\n",
        "transition_table[('q3', 'k')] = 'q11'\n",
        "transition_table[('q11', 'a')] = 'q3'\n",
        "transition_table[('q3', 'n')] = 'q4'\n",
        "transition_table[('q4', 'g')] = 'q5'"
      ],
      "metadata": {
        "id": "3hQ2vIjnPMfw"
      },
      "execution_count": null,
      "outputs": []
    },
    {
      "cell_type": "markdown",
      "source": [
        "**Update Transition Table for \"iwak\" token**"
      ],
      "metadata": {
        "id": "fThXbGl7P3KV"
      }
    },
    {
      "cell_type": "code",
      "source": [
        "transition_table[('q0', 'i')] = 'q6'\n",
        "transition_table[('q6', 'w')] = 'q7'\n",
        "transition_table[('q7', 'a')] = 'q3'\n",
        "transition_table[('q3', 'k')] = 'q11'"
      ],
      "metadata": {
        "id": "MVweK2UCP7Lo"
      },
      "execution_count": null,
      "outputs": []
    },
    {
      "cell_type": "markdown",
      "source": [
        "**Update Transition Table for \"manuk\" token**"
      ],
      "metadata": {
        "id": "BGCcn8IXQfQY"
      }
    },
    {
      "cell_type": "code",
      "source": [
        "transition_table[('q0', 'm')] = 'q1'\n",
        "transition_table[('q1', 'a')] = 'q8'\n",
        "transition_table[('q8', 'n')] = 'q4'\n",
        "transition_table[('q4', 'u')] = 'q9'\n",
        "transition_table[('q9', 'k')] = 'q11'"
      ],
      "metadata": {
        "id": "j15Hkq-AQfgR"
      },
      "execution_count": null,
      "outputs": []
    },
    {
      "cell_type": "markdown",
      "source": [
        "**Update Transition Table for \"sepur\" token**"
      ],
      "metadata": {
        "id": "OocAHLugROd0"
      }
    },
    {
      "cell_type": "code",
      "source": [
        "transition_table[('q0', 's')] = 'q10'\n",
        "transition_table[('q10', 'e')] = 'q12'\n",
        "transition_table[('q12', 'p')] = 'q13'\n",
        "transition_table[('q13', 'u')] = 'q14'\n",
        "transition_table[('q14', 'r')] = 'q15'"
      ],
      "metadata": {
        "id": "JiewTiEHRO8C"
      },
      "execution_count": null,
      "outputs": []
    },
    {
      "cell_type": "markdown",
      "source": [
        "**Update Transition Table for \"montor\" token**"
      ],
      "metadata": {
        "id": "NT3HgBYnRvN-"
      }
    },
    {
      "cell_type": "code",
      "source": [
        "transition_table[('q0', 'm')] = 'q1'\n",
        "transition_table[('q1', 'o')] = 'q16'\n",
        "transition_table[('q16', 'n')] = 'q4'\n",
        "transition_table[('q4', 't')] = 'q17'\n",
        "transition_table[('q17', 'o')] = '18'\n",
        "transition_table[('q18', 'r')] = 'q19'"
      ],
      "metadata": {
        "id": "6S7-WKUuRvd1"
      },
      "execution_count": null,
      "outputs": []
    },
    {
      "cell_type": "markdown",
      "source": [
        "**Update Transition Table for \"dokar\" token**"
      ],
      "metadata": {
        "id": "oZCQ0eYASjf6"
      }
    },
    {
      "cell_type": "code",
      "source": [
        "transition_table[('q0', 'd')] = 'q20'\n",
        "transition_table[('q20', 'o')] = 'q16'\n",
        "transition_table[('q16', 'k')] = 'q21'\n",
        "transition_table[('q21', 'a')] = 'q8'\n",
        "transition_table[('q8', 'r')] = 'q19'"
      ],
      "metadata": {
        "id": "ScRobuC4Sj3V"
      },
      "execution_count": null,
      "outputs": []
    },
    {
      "cell_type": "markdown",
      "source": [
        "**Update Transition Table for \"tuwung\" token**"
      ],
      "metadata": {
        "id": "b4O5R0XJSz8z"
      }
    },
    {
      "cell_type": "code",
      "source": [
        "transition_table[('q0', 't')] = 'q22'\n",
        "transition_table[('q22', 'u')] = 'q14'\n",
        "transition_table[('q14', 'w')] = 'q7'\n",
        "transition_table[('q7', 'u')] = 'q14'\n",
        "transition_table[('q14', 'n')] = 'q23'\n",
        "transition_table[('q23', 'g')] = 'q5'"
      ],
      "metadata": {
        "id": "3qD1ou-MS2HW"
      },
      "execution_count": null,
      "outputs": []
    },
    {
      "cell_type": "markdown",
      "source": [
        "**Update Transition Table for \"sego\" token**"
      ],
      "metadata": {
        "id": "fMl-4WwrTMug"
      }
    },
    {
      "cell_type": "code",
      "source": [
        "transition_table[('q0', 's')] = 'q10'\n",
        "transition_table[('q10', 'e')] = 'q12'\n",
        "transition_table[('q12', 'g')] = 'q24'\n",
        "transition_table[('q24', 'o')] = 'q25'"
      ],
      "metadata": {
        "id": "yCrc_vQnTOuZ"
      },
      "execution_count": null,
      "outputs": []
    },
    {
      "cell_type": "markdown",
      "source": [
        "**Update Transition Table for \"mangan\" token**"
      ],
      "metadata": {
        "id": "aONPLRQ7Tv3_"
      }
    },
    {
      "cell_type": "code",
      "source": [
        "transition_table[('q0', 'm')] = 'q1'\n",
        "transition_table[('q1', 'a')] = 'q8'\n",
        "transition_table[('q8', 'n')] = 'q4'\n",
        "transition_table[('q4', 'g')] = 'q5'\n",
        "transition_table[('q5', 'a')] = 'q26'\n",
        "transition_table[('q26', 'n')] = 'q27'"
      ],
      "metadata": {
        "id": "NxIg33wqTwzG"
      },
      "execution_count": null,
      "outputs": []
    },
    {
      "cell_type": "markdown",
      "source": [
        "**Update Transition Table for \"nyopir\" token**"
      ],
      "metadata": {
        "id": "eMQhxTwxTxFW"
      }
    },
    {
      "cell_type": "code",
      "source": [
        "transition_table[('q0', 'n')] = 'q28'\n",
        "transition_table[('q28', 'y')] = 'q29'\n",
        "transition_table[('q29', 'o')] = 'q25'\n",
        "transition_table[('q25', 'p')] = 'q31'\n",
        "transition_table[('q31', 'i')] = 'q32'\n",
        "transition_table[('q32', 'r')] = 'q19'"
      ],
      "metadata": {
        "id": "-gNsQCSfTxa8"
      },
      "execution_count": null,
      "outputs": []
    },
    {
      "cell_type": "markdown",
      "source": [
        "**Update Transition Table for \"tuku\" token**"
      ],
      "metadata": {
        "id": "K8RkRNzfTxq1"
      }
    },
    {
      "cell_type": "code",
      "source": [
        "transition_table[('q0', 't')] = 'q22'\n",
        "transition_table[('q22', 'u')] = 'q14'\n",
        "transition_table[('q14', 'k')] = 'q33'\n",
        "transition_table[('q33', 'u')] = 'q14'"
      ],
      "metadata": {
        "id": "UQn99vk_TyEm"
      },
      "execution_count": null,
      "outputs": []
    },
    {
      "cell_type": "code",
      "source": [
        "def lexical_analysis(sentence):\n",
        "  input_string = sentence + '#'\n",
        "  \n",
        "  idx_char = 0\n",
        "  state = 'q0'\n",
        "  current_token = ''\n",
        "\n",
        "  while state != 'accept':\n",
        "    current_char = input_string[idx_char]\n",
        "    current_token += current_char\n",
        "    state = transition_table[(state, current_char)]\n",
        "\n",
        "    if state in accepted_states:\n",
        "      current_token = ''\n",
        "    \n",
        "    if state == 'error':\n",
        "      print(\"Error\")\n",
        "      break;\n",
        "    \n",
        "    idx_char = idx_char + 1\n",
        "\n",
        "  if state == 'accept':\n",
        "    print(f\"Semua token di input: {sentence} valid\") "
      ],
      "metadata": {
        "id": "ygY_8FMbWjtg"
      },
      "execution_count": null,
      "outputs": []
    },
    {
      "cell_type": "code",
      "source": [
        "def main():\n",
        "  sentence = input().lower()\n",
        "\n",
        "  lexical_analysis(sentence)"
      ],
      "metadata": {
        "id": "OPQiuiM0WSyn"
      },
      "execution_count": null,
      "outputs": []
    },
    {
      "cell_type": "code",
      "source": [
        "if __name__ == \"__main__\":\n",
        "  main()"
      ],
      "metadata": {
        "colab": {
          "base_uri": "https://localhost:8080/"
        },
        "id": "SVEBy7-fWaza",
        "outputId": "f7bb45ab-5b80-48e4-8e04-c911cb30d455"
      },
      "execution_count": null,
      "outputs": [
        {
          "output_type": "stream",
          "name": "stdout",
          "text": [
            " mbak  tuku sego \n",
            "Semua token di input:  mbak  tuku sego  valid\n"
          ]
        }
      ]
    }
  ]
}