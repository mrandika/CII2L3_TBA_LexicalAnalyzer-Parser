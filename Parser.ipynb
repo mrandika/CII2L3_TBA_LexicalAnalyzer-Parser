{
  "nbformat": 4,
  "nbformat_minor": 0,
  "metadata": {
    "colab": {
      "name": "Tubes TBA - Parser.ipynb",
      "provenance": []
    },
    "kernelspec": {
      "name": "python3",
      "display_name": "Python 3"
    },
    "language_info": {
      "name": "python"
    }
  },
  "cells": [
    {
      "cell_type": "markdown",
      "source": [
        "**Symbol Definition**"
      ],
      "metadata": {
        "id": "L7Yb4iHLz8r6"
      }
    },
    {
      "cell_type": "code",
      "source": [
        "non_terminals = ['S', 'NN', 'VB']\n",
        "terminals = ['mbak', 'kakang', 'iwak', 'manuk', 'sepur', 'montor', 'dokar', 'tuwung', 'sego', 'mangan', 'nyopir', 'tuku']"
      ],
      "metadata": {
        "id": "HT1pV_FXzycb"
      },
      "execution_count": 9,
      "outputs": []
    },
    {
      "cell_type": "markdown",
      "source": [
        "**Initialize Parse Table**"
      ],
      "metadata": {
        "id": "SiQxrEpg0UCl"
      }
    },
    {
      "cell_type": "code",
      "source": [
        "parse_table = {}"
      ],
      "metadata": {
        "id": "T4kEKLfu0SkV"
      },
      "execution_count": 10,
      "outputs": []
    },
    {
      "cell_type": "markdown",
      "source": [
        "**Update Subject Parse Table**"
      ],
      "metadata": {
        "id": "8xHhPUNF0Zbm"
      }
    },
    {
      "cell_type": "code",
      "source": [
        "parse_table[('S', 'mbak')] = ['NN', 'VB', 'NN']\n",
        "parse_table[('S', 'kakang')] = ['NN', 'VB', 'NN']\n",
        "parse_table[('S', 'iwak')] = ['NN', 'VB', 'NN']\n",
        "parse_table[('S', 'manuk')] = ['NN', 'VB', 'NN']\n",
        "parse_table[('S', 'sepur')] = ['NN', 'VB', 'NN']\n",
        "parse_table[('S', 'montor')] = ['NN', 'VB', 'NN']\n",
        "parse_table[('S', 'dokar')] = ['NN', 'VB', 'NN']\n",
        "parse_table[('S', 'tuwung')] = ['NN', 'VB', 'NN']\n",
        "parse_table[('S', 'sego')] = ['NN', 'VB', 'NN']\n",
        "parse_table[('S', 'mangan')] = ['error']\n",
        "parse_table[('S', 'nyopir')] = ['error']\n",
        "parse_table[('S', 'tuku')] = ['error']\n",
        "parse_table[('S', 'EOS')] = ['error']"
      ],
      "metadata": {
        "id": "94CRRk0Z0Ztl"
      },
      "execution_count": 11,
      "outputs": []
    },
    {
      "cell_type": "markdown",
      "source": [
        "**Update Noun Parse Table**"
      ],
      "metadata": {
        "id": "ADLz_oh20_AS"
      }
    },
    {
      "cell_type": "code",
      "source": [
        "parse_table[('NN', 'mbak')] = ['mbak']\n",
        "parse_table[('NN', 'kakang')] = ['kakang']\n",
        "parse_table[('NN', 'iwak')] = ['iwak']\n",
        "parse_table[('NN', 'manuk')] = ['manuk']\n",
        "parse_table[('NN', 'sepur')] = ['sepur']\n",
        "parse_table[('NN', 'montor')] = ['montor']\n",
        "parse_table[('NN', 'dokar')] = ['dokar']\n",
        "parse_table[('NN', 'tuwung')] = ['tuwung']\n",
        "parse_table[('NN', 'sego')] = ['sego']\n",
        "parse_table[('NN', 'mangan')] = ['error']\n",
        "parse_table[('NN', 'nyopir')] = ['error']\n",
        "parse_table[('NN', 'tuku')] = ['error']\n",
        "parse_table[('NN', 'EOS')] = ['error']"
      ],
      "metadata": {
        "id": "Gcpw7SLu1KUg"
      },
      "execution_count": 12,
      "outputs": []
    },
    {
      "cell_type": "markdown",
      "source": [
        "**Update Verb Parse Table**"
      ],
      "metadata": {
        "id": "VONVzO-l1bK5"
      }
    },
    {
      "cell_type": "code",
      "source": [
        "parse_table[('VB', 'mbak')] = ['error']\n",
        "parse_table[('VB', 'kakang')] = ['error']\n",
        "parse_table[('VB', 'iwak')] = ['error']\n",
        "parse_table[('VB', 'manuk')] = ['error']\n",
        "parse_table[('VB', 'sepur')] = ['error']\n",
        "parse_table[('VB', 'montor')] = ['error']\n",
        "parse_table[('VB', 'dokar')] = ['error']\n",
        "parse_table[('VB', 'tuwung')] = ['error']\n",
        "parse_table[('VB', 'sego')] = ['error']\n",
        "parse_table[('VB', 'mangan')] = ['mangan']\n",
        "parse_table[('VB', 'nyopir')] = ['nyopir']\n",
        "parse_table[('VB', 'tuku')] = ['tuku']\n",
        "parse_table[('VB', 'EOS')] = ['error']"
      ],
      "metadata": {
        "id": "UsysFWGW1ePx"
      },
      "execution_count": 13,
      "outputs": []
    },
    {
      "cell_type": "code",
      "source": [
        "def parser(sentence):\n",
        "  # Stack Initialization\n",
        "  stack = []\n",
        "  stack.append('#')\n",
        "  stack.append('S')\n",
        "\n",
        "  tokens = sentence.lower().split()\n",
        "  tokens.append('EOS')\n",
        "\n",
        "  print(tokens)\n",
        "\n",
        "  idx_char = 0\n",
        "  symbol = tokens[idx_char]\n",
        "\n",
        "  while (len(stack) > 0):\n",
        "    top = stack[len(stack) - 1]\n",
        "    print(f'Top =', top)\n",
        "    print(f'Symbol =', symbol)\n",
        "\n",
        "    if top in terminals:\n",
        "      print('Top adalah simbol terminal')\n",
        "\n",
        "      if top == symbol:\n",
        "        stack.pop()\n",
        "        idx_char += 1\n",
        "        symbol = tokens[idx_char]\n",
        "        if symbol == 'EOS':\n",
        "          print(f'Isi stack: ', stack)\n",
        "          stack.pop()\n",
        "      else:\n",
        "        print('error')\n",
        "        break;\n",
        "    elif top in non_terminals:\n",
        "      print('Top adalah simbol non-terminal')\n",
        "      \n",
        "      if parse_table[(top, symbol)][0] != 'error':\n",
        "        stack.pop()\n",
        "        pushed_symbol = parse_table[(top, symbol)]\n",
        "\n",
        "        for i in range(len(pushed_symbol) - 1, -1, -1):\n",
        "          stack.append(pushed_symbol[i])\n",
        "      else:\n",
        "        print('error')\n",
        "        break;\n",
        "    else:\n",
        "      print('error')\n",
        "      break;\n",
        "    \n",
        "    print(f'Isi stack:', stack)\n",
        "    print()\n",
        "\n",
        "  if symbol == 'EOS' and len(stack) == 0:\n",
        "      print(f'Input string', sentence, 'diterima, sesuai grammar')\n",
        "  else:\n",
        "    print(f'Error, Input string', sentence, 'tidak diterima, tidak sesuai grammar')"
      ],
      "metadata": {
        "id": "ZMqPwlmm1w8p"
      },
      "execution_count": 14,
      "outputs": []
    },
    {
      "cell_type": "code",
      "source": [
        "def main():\n",
        "  # Request Input\n",
        "  #sentence = input()\n",
        "  sentence = 'mbak tuku iwak'\n",
        "  \n",
        "  parser(sentence)"
      ],
      "metadata": {
        "id": "DPtapyWhzo8o"
      },
      "execution_count": 15,
      "outputs": []
    },
    {
      "cell_type": "code",
      "execution_count": 16,
      "metadata": {
        "colab": {
          "base_uri": "https://localhost:8080/"
        },
        "id": "jOxqBGaRzUDt",
        "outputId": "fc47e0f5-2c3a-4d40-8378-03771f2a6745"
      },
      "outputs": [
        {
          "output_type": "stream",
          "name": "stdout",
          "text": [
            "['mbak', 'tuku', 'iwak', 'EOS']\n",
            "Top = S\n",
            "Symbol = mbak\n",
            "Top adalah simbol non-terminal\n",
            "Isi stack: ['#', 'NN', 'VB', 'NN']\n",
            "\n",
            "Top = NN\n",
            "Symbol = mbak\n",
            "Top adalah simbol non-terminal\n",
            "Isi stack: ['#', 'NN', 'VB', 'mbak']\n",
            "\n",
            "Top = mbak\n",
            "Symbol = mbak\n",
            "Top adalah simbol terminal\n",
            "Isi stack: ['#', 'NN', 'VB']\n",
            "\n",
            "Top = VB\n",
            "Symbol = tuku\n",
            "Top adalah simbol non-terminal\n",
            "Isi stack: ['#', 'NN', 'tuku']\n",
            "\n",
            "Top = tuku\n",
            "Symbol = tuku\n",
            "Top adalah simbol terminal\n",
            "Isi stack: ['#', 'NN']\n",
            "\n",
            "Top = NN\n",
            "Symbol = iwak\n",
            "Top adalah simbol non-terminal\n",
            "Isi stack: ['#', 'iwak']\n",
            "\n",
            "Top = iwak\n",
            "Symbol = iwak\n",
            "Top adalah simbol terminal\n",
            "Isi stack:  ['#']\n",
            "Isi stack: []\n",
            "\n",
            "Input string mbak tuku iwak diterima, sesuai grammar\n"
          ]
        }
      ],
      "source": [
        "if __name__ == \"__main__\":\n",
        "  main()"
      ]
    }
  ]
}